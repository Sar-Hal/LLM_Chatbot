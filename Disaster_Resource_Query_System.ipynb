{
 "cells": [
  {
   "cell_type": "markdown",
   "id": "a3cf5935",
   "metadata": {},
   "source": [
    "# Disaster Resource Query System\n",
    "This notebook implements a complete pipeline to:\n",
    "1. Fetch disaster resource data from an API.\n",
    "2. Parse and process the data.\n",
    "3. Generate and store embeddings for districts using FAISS.\n",
    "4. Implement a query system with retrieval-augmented generation (RAG) using the Groq API.\n",
    "\n",
    "**Key Features:**\n",
    "- Integration with FAISS for similarity search.\n",
    "- Use of Groq LLM API for context-aware answers.\n"
   ]
  },
  {
   "cell_type": "markdown",
   "id": "8d56855c",
   "metadata": {},
   "source": [
    "## Step 1: Fetch and Store Data from API"
   ]
  },
  {
   "cell_type": "code",
   "execution_count": null,
   "id": "c8c560bf",
   "metadata": {},
   "outputs": [],
   "source": [
    "import requests\n",
    "import json\n",
    "\n",
    "def fetch_and_store_data(api_url, output_file):\n",
    "    try:\n",
    "        response = requests.get(api_url)\n",
    "        response.raise_for_status()\n",
    "        data = response.json()\n",
    "\n",
    "        with open(output_file, 'w') as file:\n",
    "            json.dump(data, file, indent=4)\n",
    "\n",
    "        print(f\"Data successfully fetched from {api_url} and stored in {output_file}\")\n",
    "    except requests.exceptions.RequestException as e:\n",
    "        print(f\"Error while fetching data: {e}\")\n",
    "    except json.JSONDecodeError as e:\n",
    "        print(f\"Error decoding JSON: {e}\")\n",
    "\n",
    "# Example usage\n",
    "api_url = \"https://api.mlsakiit.com/resources\"\n",
    "output_file = \"resources_data.json\"\n",
    "fetch_and_store_data(api_url, output_file)"
   ]
  },
  {
   "cell_type": "markdown",
   "id": "7067a4a0",
   "metadata": {},
   "source": [
    "## Step 2: Parse the Data"
   ]
  },
  {
   "cell_type": "code",
   "execution_count": null,
   "id": "3d8a6d9f",
   "metadata": {},
   "outputs": [],
   "source": [
    "import json\n",
    "\n",
    "with open('resources_data.json', 'r') as f:\n",
    "    data = json.load(f)\n",
    "\n",
    "parsed_data = []\n",
    "\n",
    "for feature in data.get('features', []):\n",
    "    properties = feature.get('properties', {})\n",
    "    geometry = feature.get('geometry', {})\n",
    "\n",
    "    parsed_data.append({\n",
    "        'district_name': properties.get('dist_name', 'Unknown'),\n",
    "        'district_code': properties.get('dist_code', 'Unknown'),\n",
    "        'water': properties.get('water', 0),\n",
    "        'food_rations': properties.get('food_rations', 0),\n",
    "        'medkits': properties.get('medkits', 0),\n",
    "        'ammo': properties.get('ammo', 0),\n",
    "        'camp_exists': properties.get('camp_exists', False),\n",
    "        'coordinates': geometry.get('coordinates', [])\n",
    "    })\n",
    "\n",
    "with open('parsed_districts.json', 'w') as f:\n",
    "    json.dump(parsed_data, f, indent=4)\n",
    "\n",
    "print(\"Parsed data saved to 'parsed_districts.json'\")"
   ]
  },
  {
   "cell_type": "markdown",
   "id": "c611dee8",
   "metadata": {},
   "source": [
    "## Step 3: Generate and Store Embeddings"
   ]
  },
  {
   "cell_type": "code",
   "execution_count": null,
   "id": "0b5f5da2",
   "metadata": {},
   "outputs": [],
   "source": [
    "from sentence_transformers import SentenceTransformer\n",
    "import faiss\n",
    "import json\n",
    "import numpy as np\n",
    "\n",
    "# Load parsed data\n",
    "with open('parsed_districts.json', 'r') as f:\n",
    "    data = json.load(f)\n",
    "\n",
    "descriptions = [\n",
    "    f\"District: {item['district_name']}, Water: {item['water']}, Medkits: {item['medkits']}\"\n",
    "    for item in data\n",
    "]\n",
    "\n",
    "model = SentenceTransformer('all-MiniLM-L6-v2')\n",
    "embeddings = np.array([model.encode(desc) for desc in descriptions])\n",
    "\n",
    "index = faiss.IndexFlatL2(embeddings.shape[1])\n",
    "index.add(embeddings)\n",
    "faiss.write_index(index, 'district_index.faiss')\n",
    "\n",
    "with open('district_embeddings_with_metadata.json', 'w') as f:\n",
    "    json.dump({'metadata': data, 'embeddings': embeddings.tolist()}, f, indent=4)\n",
    "\n",
    "print(\"FAISS index and metadata saved.\")"
   ]
  },
  {
   "cell_type": "markdown",
   "id": "75559b30",
   "metadata": {},
   "source": [
    "## Step 4: Query System with FAISS"
   ]
  },
  {
   "cell_type": "code",
   "execution_count": null,
   "id": "0a026cfd",
   "metadata": {},
   "outputs": [],
   "source": [
    "import faiss\n",
    "import json\n",
    "import numpy as np\n",
    "from sentence_transformers import SentenceTransformer\n",
    "\n",
    "# Load index and metadata\n",
    "index = faiss.read_index('district_index.faiss')\n",
    "with open('parsed_districts.json', 'r') as f:\n",
    "    metadata = json.load(f)\n",
    "\n",
    "model = SentenceTransformer('all-MiniLM-L6-v2')\n",
    "\n",
    "def query_faiss(query, top_k=5):\n",
    "    query_embedding = model.encode(query).reshape(1, -1)\n",
    "    distances, indices = index.search(query_embedding, top_k)\n",
    "    return [metadata[i] for i in indices[0]], distances[0]\n",
    "\n",
    "query = \"District with high water and medkits\"\n",
    "results, distances = query_faiss(query)\n",
    "\n",
    "for i, result in enumerate(results):\n",
    "    print(f\"Result {i+1}: {result['district_name']} (Distance: {distances[i]:.4f})\")"
   ]
  },
  {
   "cell_type": "markdown",
   "id": "64f1d774",
   "metadata": {},
   "source": [
    "## Step 5: RAG with Groq API"
   ]
  },
  {
   "cell_type": "code",
   "execution_count": null,
   "id": "4d91ed7e",
   "metadata": {},
   "outputs": [],
   "source": [
    "import requests\n",
    "\n",
    "GROQ_API_KEY = \"your_groq_api_key_here\"\n",
    "GROQ_API_URL = \"https://api.groq.com/v1/chat\"\n",
    "\n",
    "context = \"\\n\".join([\n",
    "    f\"District: {res['district_name']}, Water: {res['water']}, Medkits: {res['medkits']}\"\n",
    "    for res in results\n",
    "])\n",
    "\n",
    "payload = {\n",
    "    \"messages\": [\n",
    "        {\"role\": \"system\", \"content\": \"Provide district insights based on user query.\"},\n",
    "        {\"role\": \"user\", \"content\": f\"Query: {query}\\n\\nContext:\\n{context}\"}\n",
    "    ]\n",
    "}\n",
    "\n",
    "headers = {\n",
    "    \"Authorization\": f\"Bearer {GROQ_API_KEY}\",\n",
    "    \"Content-Type\": \"application/json\"\n",
    "}\n",
    "\n",
    "response = requests.post(GROQ_API_URL, json=payload, headers=headers)\n",
    "if response.status_code == 200:\n",
    "    print(\"Groq Response:\", response.json()[\"choices\"][0][\"message\"][\"content\"])\n",
    "else:\n",
    "    print(\"Groq API Error:\", response.text)"
   ]
  }
 ],
 "metadata": {},
 "nbformat": 4,
 "nbformat_minor": 5
}
